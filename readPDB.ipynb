{
 "cells": [
  {
   "cell_type": "code",
   "execution_count": 2,
   "id": "f8caea63",
   "metadata": {},
   "outputs": [
    {
     "name": "stdout",
     "output_type": "stream",
     "text": [
      "Collecting biopandas\n",
      "  Using cached biopandas-0.4.1-py2.py3-none-any.whl (878 kB)\n",
      "Requirement already satisfied: pandas>=0.24.2 in c:\\users\\sheela sai kumar\\anaconda3\\lib\\site-packages (from biopandas) (1.4.2)\n",
      "Requirement already satisfied: setuptools in c:\\users\\sheela sai kumar\\anaconda3\\lib\\site-packages (from biopandas) (61.2.0)\n",
      "Requirement already satisfied: numpy>=1.16.2 in c:\\users\\sheela sai kumar\\anaconda3\\lib\\site-packages (from biopandas) (1.21.5)\n",
      "Requirement already satisfied: python-dateutil>=2.8.1 in c:\\users\\sheela sai kumar\\anaconda3\\lib\\site-packages (from pandas>=0.24.2->biopandas) (2.8.2)\n",
      "Requirement already satisfied: pytz>=2020.1 in c:\\users\\sheela sai kumar\\anaconda3\\lib\\site-packages (from pandas>=0.24.2->biopandas) (2021.3)\n",
      "Requirement already satisfied: six>=1.5 in c:\\users\\sheela sai kumar\\anaconda3\\lib\\site-packages (from python-dateutil>=2.8.1->pandas>=0.24.2->biopandas) (1.16.0)\n",
      "Installing collected packages: biopandas\n",
      "Successfully installed biopandas-0.4.1\n"
     ]
    }
   ],
   "source": [
    "!pip install biopandas"
   ]
  },
  {
   "cell_type": "code",
   "execution_count": 6,
   "id": "516913b8",
   "metadata": {
    "scrolled": true
   },
   "outputs": [
    {
     "name": "stdout",
     "output_type": "stream",
     "text": [
      "dict_keys(['ATOM', 'HETATM', 'ANISOU', 'OTHERS'])\n"
     ]
    }
   ],
   "source": [
    "from biopandas.pdb import PandasPdb\n",
    "\n",
    "paths = \"C:\\\\Users\\\\Sheela Sai kumar\\\\Documents\\\\Kaggle\\\\Novozymes\\\\wildtype_structure_prediction_af2.pdb\"\n",
    "pdb_df =  PandasPdb().read_pdb(paths)\n",
    "print(pdb_df.df.keys())"
   ]
  },
  {
   "cell_type": "code",
   "execution_count": 10,
   "id": "0c1bd9f2",
   "metadata": {},
   "outputs": [],
   "source": [
    "atom_df = pdb_df.df['ATOM']\n",
    "hetatm_df = pdb_df.df['HETATM']\n",
    "anisou_df = pdb_df.df['ANISOU']\n",
    "others_df = pdb_df.df['OTHERS']"
   ]
  },
  {
   "cell_type": "code",
   "execution_count": 14,
   "id": "46fa38de",
   "metadata": {},
   "outputs": [
    {
     "data": {
      "text/html": [
       "<div>\n",
       "<style scoped>\n",
       "    .dataframe tbody tr th:only-of-type {\n",
       "        vertical-align: middle;\n",
       "    }\n",
       "\n",
       "    .dataframe tbody tr th {\n",
       "        vertical-align: top;\n",
       "    }\n",
       "\n",
       "    .dataframe thead th {\n",
       "        text-align: right;\n",
       "    }\n",
       "</style>\n",
       "<table border=\"1\" class=\"dataframe\">\n",
       "  <thead>\n",
       "    <tr style=\"text-align: right;\">\n",
       "      <th></th>\n",
       "      <th>record_name</th>\n",
       "      <th>entry</th>\n",
       "      <th>line_idx</th>\n",
       "    </tr>\n",
       "  </thead>\n",
       "  <tbody>\n",
       "    <tr>\n",
       "      <th>0</th>\n",
       "      <td>TER</td>\n",
       "      <td>3318      LYS A 221</td>\n",
       "      <td>3317</td>\n",
       "    </tr>\n",
       "    <tr>\n",
       "      <th>1</th>\n",
       "      <td>END</td>\n",
       "      <td></td>\n",
       "      <td>3318</td>\n",
       "    </tr>\n",
       "  </tbody>\n",
       "</table>\n",
       "</div>"
      ],
      "text/plain": [
       "  record_name                 entry  line_idx\n",
       "0         TER   3318      LYS A 221      3317\n",
       "1         END                            3318"
      ]
     },
     "execution_count": 14,
     "metadata": {},
     "output_type": "execute_result"
    }
   ],
   "source": [
    "others_df"
   ]
  },
  {
   "cell_type": "code",
   "execution_count": null,
   "id": "f4248bae",
   "metadata": {},
   "outputs": [],
   "source": []
  }
 ],
 "metadata": {
  "kernelspec": {
   "display_name": "Python 3 (ipykernel)",
   "language": "python",
   "name": "python3"
  },
  "language_info": {
   "codemirror_mode": {
    "name": "ipython",
    "version": 3
   },
   "file_extension": ".py",
   "mimetype": "text/x-python",
   "name": "python",
   "nbconvert_exporter": "python",
   "pygments_lexer": "ipython3",
   "version": "3.9.12"
  }
 },
 "nbformat": 4,
 "nbformat_minor": 5
}
